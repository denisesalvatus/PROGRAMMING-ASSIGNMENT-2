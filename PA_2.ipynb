{
 "cells": [
  {
   "cell_type": "markdown",
   "id": "94930b6f-88c6-43cf-9303-90c380608789",
   "metadata": {},
   "source": [
    "PROGRAMMING ASSIGNMENT 2"
   ]
  },
  {
   "cell_type": "markdown",
   "id": "e1d41a70-4055-46b1-9e6d-dd0b3809db00",
   "metadata": {},
   "source": [
    "NORMALIZATION PROBLEM:"
   ]
  },
  {
   "cell_type": "code",
   "execution_count": 1,
   "id": "5722afe5-2789-4102-b1b8-d4bcf41e19d3",
   "metadata": {},
   "outputs": [],
   "source": [
    "import numpy as np"
   ]
  },
  {
   "cell_type": "code",
   "execution_count": 2,
   "id": "a3e296b3-c4de-4908-beba-c9855158e369",
   "metadata": {},
   "outputs": [],
   "source": [
    "X = np.random.rand(5, 5)"
   ]
  },
  {
   "cell_type": "code",
   "execution_count": 5,
   "id": "5cbf7907-1cbd-4f51-8d8e-86e1af6bc258",
   "metadata": {},
   "outputs": [
    {
     "data": {
      "text/plain": [
       "array([[-1.75865226,  0.78391943, -1.64854631,  1.76981772, -1.32898178],\n",
       "       [ 0.64831977,  0.22752327,  0.83643574,  0.83168847,  0.6335522 ],\n",
       "       [ 0.99751462, -0.52014939, -1.60560934, -0.22815576, -0.04697781],\n",
       "       [-0.20855209,  0.62411479, -0.65303569,  0.8083092 ,  1.92337959],\n",
       "       [-1.31605234, -0.44867486,  0.36185819, -0.38669218, -0.29635317]])"
      ]
     },
     "execution_count": 5,
     "metadata": {},
     "output_type": "execute_result"
    }
   ],
   "source": [
    "X_normalized = (X - X.mean()) / X.std()\n",
    "X_normalized"
   ]
  },
  {
   "cell_type": "code",
   "execution_count": 6,
   "id": "ef96b70d-f940-4ce5-8b48-0b4f4b7a6361",
   "metadata": {},
   "outputs": [],
   "source": [
    "np.save('X_normalized.npy', X_normalized)"
   ]
  },
  {
   "cell_type": "code",
   "execution_count": 7,
   "id": "0d4b58d6-3f1b-4fc6-9127-2e2c29084ed4",
   "metadata": {},
   "outputs": [
    {
     "name": "stdout",
     "output_type": "stream",
     "text": [
      "Normalized 5x5 array:\n",
      " [[-1.75865226  0.78391943 -1.64854631  1.76981772 -1.32898178]\n",
      " [ 0.64831977  0.22752327  0.83643574  0.83168847  0.6335522 ]\n",
      " [ 0.99751462 -0.52014939 -1.60560934 -0.22815576 -0.04697781]\n",
      " [-0.20855209  0.62411479 -0.65303569  0.8083092   1.92337959]\n",
      " [-1.31605234 -0.44867486  0.36185819 -0.38669218 -0.29635317]]\n"
     ]
    }
   ],
   "source": [
    "print(\"Normalized 5x5 array:\\n\", X_normalized)"
   ]
  },
  {
   "cell_type": "markdown",
   "id": "d97bd53d-3c7f-4820-9439-c20fd5f8d04e",
   "metadata": {},
   "source": [
    "DIVISIBLE BY 3 PROBLEM:"
   ]
  },
  {
   "cell_type": "code",
   "execution_count": 12,
   "id": "3b9ab8b0-647e-4d62-bfae-306427c04d9d",
   "metadata": {},
   "outputs": [],
   "source": [
    "squares = np.arange(1, 101) ** 2"
   ]
  },
  {
   "cell_type": "code",
   "execution_count": 18,
   "id": "64ddfe71-cf1c-413a-aa17-4317d52f5eff",
   "metadata": {},
   "outputs": [
    {
     "data": {
      "text/plain": [
       "array([[    1,     4,     9,    16,    25,    36,    49,    64,    81,\n",
       "          100],\n",
       "       [  121,   144,   169,   196,   225,   256,   289,   324,   361,\n",
       "          400],\n",
       "       [  441,   484,   529,   576,   625,   676,   729,   784,   841,\n",
       "          900],\n",
       "       [  961,  1024,  1089,  1156,  1225,  1296,  1369,  1444,  1521,\n",
       "         1600],\n",
       "       [ 1681,  1764,  1849,  1936,  2025,  2116,  2209,  2304,  2401,\n",
       "         2500],\n",
       "       [ 2601,  2704,  2809,  2916,  3025,  3136,  3249,  3364,  3481,\n",
       "         3600],\n",
       "       [ 3721,  3844,  3969,  4096,  4225,  4356,  4489,  4624,  4761,\n",
       "         4900],\n",
       "       [ 5041,  5184,  5329,  5476,  5625,  5776,  5929,  6084,  6241,\n",
       "         6400],\n",
       "       [ 6561,  6724,  6889,  7056,  7225,  7396,  7569,  7744,  7921,\n",
       "         8100],\n",
       "       [ 8281,  8464,  8649,  8836,  9025,  9216,  9409,  9604,  9801,\n",
       "        10000]])"
      ]
     },
     "execution_count": 18,
     "metadata": {},
     "output_type": "execute_result"
    }
   ],
   "source": [
    "A = squares.reshape(10, 10)\n",
    "A"
   ]
  },
  {
   "cell_type": "code",
   "execution_count": 15,
   "id": "4a9d9186-9f34-490d-8a96-6ab6de8cfb41",
   "metadata": {},
   "outputs": [],
   "source": [
    "div_by_3 = A[A % 3 == 0]"
   ]
  },
  {
   "cell_type": "code",
   "execution_count": 16,
   "id": "04c36bc7-9ad9-464b-bb32-513565abe266",
   "metadata": {},
   "outputs": [],
   "source": [
    "np.save('div_by_3.npy', div_by_3)"
   ]
  },
  {
   "cell_type": "code",
   "execution_count": 17,
   "id": "332ba15c-cc1f-4835-8e8f-0343ac0a5350",
   "metadata": {},
   "outputs": [
    {
     "name": "stdout",
     "output_type": "stream",
     "text": [
      "Numbers divisible by 3:\n",
      " [   9   36   81  144  225  324  441  576  729  900 1089 1296 1521 1764\n",
      " 2025 2304 2601 2916 3249 3600 3969 4356 4761 5184 5625 6084 6561 7056\n",
      " 7569 8100 8649 9216 9801]\n"
     ]
    }
   ],
   "source": [
    "print(\"Numbers divisible by 3:\\n\", div_by_3)\n"
   ]
  },
  {
   "cell_type": "code",
   "execution_count": null,
   "id": "84231847-cde4-45aa-806d-e306d8ea5c22",
   "metadata": {},
   "outputs": [],
   "source": []
  }
 ],
 "metadata": {
  "kernelspec": {
   "display_name": "Python [conda env:base] *",
   "language": "python",
   "name": "conda-base-py"
  },
  "language_info": {
   "codemirror_mode": {
    "name": "ipython",
    "version": 3
   },
   "file_extension": ".py",
   "mimetype": "text/x-python",
   "name": "python",
   "nbconvert_exporter": "python",
   "pygments_lexer": "ipython3",
   "version": "3.13.5"
  }
 },
 "nbformat": 4,
 "nbformat_minor": 5
}
