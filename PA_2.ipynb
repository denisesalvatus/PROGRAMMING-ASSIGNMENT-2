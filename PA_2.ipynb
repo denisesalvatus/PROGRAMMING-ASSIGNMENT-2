{
 "cells": [
  {
   "cell_type": "markdown",
   "id": "94930b6f-88c6-43cf-9303-90c380608789",
   "metadata": {},
   "source": [
    "PROGRAMMING ASSIGNMENT 2"
   ]
  },
  {
   "cell_type": "markdown",
   "id": "e1d41a70-4055-46b1-9e6d-dd0b3809db00",
   "metadata": {},
   "source": [
    "NORMALIZATION PROBLEM:"
   ]
  },
  {
   "cell_type": "code",
   "execution_count": 1,
   "id": "5722afe5-2789-4102-b1b8-d4bcf41e19d3",
   "metadata": {},
   "outputs": [
    {
     "name": "stdout",
     "output_type": "stream",
     "text": [
      "Normalized 5x5 array:\n",
      " [[-0.29774468  0.78180195 -0.63682005  1.59021611 -0.16615095]\n",
      " [-0.87931174 -1.72357182 -0.23152401 -1.98782768  1.57237139]\n",
      " [ 0.12716473  0.23764035 -0.47696648  0.99335899  0.65049194]\n",
      " [ 1.06766898 -1.05098283 -0.50560514 -1.13914406  0.5072567 ]\n",
      " [-0.96718349  1.43751996 -0.74084292  0.68291394  1.15527081]]\n"
     ]
    }
   ],
   "source": [
    "import numpy as np\n",
    "\n",
    "X = np.random.rand(5, 5)\n",
    "\n",
    "X_normalized = (X - X.mean()) / X.std()\n",
    "\n",
    "np.save('X_normalized.npy', X_normalized)\n",
    "\n",
    "print(\"Normalized 5x5 array:\\n\", X_normalized)\n"
   ]
  },
  {
   "cell_type": "markdown",
   "id": "d97bd53d-3c7f-4820-9439-c20fd5f8d04e",
   "metadata": {},
   "source": [
    "DIVISIBLE BY 3 PROBLEM:"
   ]
  },
  {
   "cell_type": "code",
   "execution_count": 2,
   "id": "3b9ab8b0-647e-4d62-bfae-306427c04d9d",
   "metadata": {},
   "outputs": [
    {
     "name": "stdout",
     "output_type": "stream",
     "text": [
      "Numbers divisible by 3:\n",
      " [   9   36   81  144  225  324  441  576  729  900 1089 1296 1521 1764\n",
      " 2025 2304 2601 2916 3249 3600 3969 4356 4761 5184 5625 6084 6561 7056\n",
      " 7569 8100 8649 9216 9801]\n"
     ]
    }
   ],
   "source": [
    "squares = np.arange(1, 101) ** 2\n",
    "A = squares.reshape(10, 10)\n",
    "\n",
    "div_by_3 = A[A % 3 == 0]\n",
    "\n",
    "np.save('div_by_3.npy', div_by_3)\n",
    "\n",
    "print(\"Numbers divisible by 3:\\n\", div_by_3)\n"
   ]
  },
  {
   "cell_type": "code",
   "execution_count": null,
   "id": "04c36bc7-9ad9-464b-bb32-513565abe266",
   "metadata": {},
   "outputs": [],
   "source": []
  }
 ],
 "metadata": {
  "kernelspec": {
   "display_name": "Python [conda env:base] *",
   "language": "python",
   "name": "conda-base-py"
  },
  "language_info": {
   "codemirror_mode": {
    "name": "ipython",
    "version": 3
   },
   "file_extension": ".py",
   "mimetype": "text/x-python",
   "name": "python",
   "nbconvert_exporter": "python",
   "pygments_lexer": "ipython3",
   "version": "3.13.5"
  }
 },
 "nbformat": 4,
 "nbformat_minor": 5
}
